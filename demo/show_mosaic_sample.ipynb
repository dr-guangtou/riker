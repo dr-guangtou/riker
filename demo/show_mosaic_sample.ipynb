{
 "cells": [
  {
   "cell_type": "code",
   "execution_count": 36,
   "metadata": {},
   "outputs": [
    {
     "name": "stdout",
     "output_type": "stream",
     "text": [
      "The autoreload extension is already loaded. To reload it, use:\n",
      "  %reload_ext autoreload\n"
     ]
    }
   ],
   "source": [
    "%load_ext autoreload\n",
    "%reload_ext autoreload\n",
    "%autoreload 2\n",
    "%matplotlib inline\n",
    "\n",
    "import os\n",
    "import warnings\n",
    "\n",
    "import numpy as np\n",
    "\n",
    "from tqdm import tnrange, tqdm_notebook\n",
    "import multiprocessing as mp\n",
    "\n",
    "import matplotlib.pyplot as plt\n",
    "from matplotlib.gridspec import GridSpec\n",
    "from matplotlib.ticker import NullFormatter, FormatStrFormatter\n",
    "from matplotlib import rcParams\n",
    "\n",
    "from astropy.table import Table, Column, join\n",
    "\n",
    "from riker.galaxy import GalaxyMap\n",
    "from riker.data import BeneMassAgeZMaps\n",
    "\n",
    "from kungpao.display import display_single\n",
    "\n",
    "# Color maps\n",
    "IMG_CMAP = plt.get_cmap('Greys')\n",
    "IMG_CMAP.set_bad(color='w')\n",
    "\n",
    "warnings.filterwarnings(\"ignore\")\n",
    "\n",
    "plt.rc('text', usetex=True)\n",
    "rcParams.update({'axes.linewidth': 1.5})\n",
    "rcParams.update({'xtick.direction': 'in'})\n",
    "rcParams.update({'ytick.direction': 'in'})\n",
    "rcParams.update({'xtick.minor.visible': 'True'})\n",
    "rcParams.update({'ytick.minor.visible': 'True'})\n",
    "rcParams.update({'xtick.major.pad': '7.0'})\n",
    "rcParams.update({'xtick.major.size': '8.0'})\n",
    "rcParams.update({'xtick.major.width': '1.5'})\n",
    "rcParams.update({'xtick.minor.pad': '7.0'})\n",
    "rcParams.update({'xtick.minor.size': '4.0'})\n",
    "rcParams.update({'xtick.minor.width': '1.5'})\n",
    "rcParams.update({'ytick.major.pad': '7.0'})\n",
    "rcParams.update({'ytick.major.size': '8.0'})\n",
    "rcParams.update({'ytick.major.width': '1.5'})\n",
    "rcParams.update({'ytick.minor.pad': '7.0'})\n",
    "rcParams.update({'ytick.minor.size': '4.0'})\n",
    "rcParams.update({'ytick.minor.width': '1.5'})\n",
    "rcParams.update({'axes.titlepad': '10.0'})\n",
    "rcParams.update({'font.size': 25})"
   ]
  },
  {
   "cell_type": "code",
   "execution_count": 62,
   "metadata": {},
   "outputs": [],
   "source": [
    "def map_list(hdf5, sample, data_type='mass_gal', proj='xy', \n",
    "             index_col='index', index_list=False):\n",
    "    \"\"\"Gather a lit of maps for a subsample of galaxies.\"\"\"\n",
    "    if index_list:\n",
    "        indices = sample\n",
    "    else:\n",
    "        indices = list(sample[index_col])\n",
    "    \n",
    "    return [hdf5.get_maps(idx, proj, maps_only=True)[data_type] for idx in indices]\n",
    "\n",
    "\n",
    "def sample_mosaic(sample, maps, n_col=5, img_size=3, zmin=3.5, zmax=10.5,\n",
    "                  show_mstar=True, show_mhalo=True, info=None, output=None):\n",
    "    \"\"\"Making a mosaic figure of a subsample.\"\"\"\n",
    "    n_row = int(np.ceil(len(sample) / n_col))\n",
    "\n",
    "    fig = plt.figure(figsize=(n_col * img_size, n_row * img_size))\n",
    "    fig.subplots_adjust(\n",
    "        left=0.0, right=1.0, bottom=0.0, top=1.0, wspace=0.00, hspace=0.00)\n",
    "\n",
    "    gs = GridSpec(n_row, n_col)\n",
    "    gs.update(wspace=0.0, hspace=0.00)\n",
    "\n",
    "    for ii, data in enumerate(maps):\n",
    "        galaxy = sample[ii]\n",
    "\n",
    "        # Show the aperture\n",
    "        ax = plt.subplot(gs[ii])\n",
    "        ax.yaxis.set_major_formatter(NullFormatter())\n",
    "        ax.xaxis.set_major_formatter(NullFormatter())\n",
    "        if ii == 0:\n",
    "            ax = display_single(\n",
    "                data, ax=ax, stretch='log10', zmin=zmin, zmax=zmax,\n",
    "                cmap=IMG_CMAP, no_negative=True, color_bar=True, scale_bar=False,\n",
    "                color_bar_color='k')\n",
    "        else:\n",
    "            ax = display_single(\n",
    "                data, ax=ax, stretch='log10', zmin=zmin, zmax=zmax,\n",
    "                cmap=IMG_CMAP, no_negative=True, color_bar=False, scale_bar=False,\n",
    "                color_bar_color='k')\n",
    " \n",
    "        # Using color to separate central v.s. satellites\n",
    "        if galaxy['cen_flag']:\n",
    "            text_color = 'r'\n",
    "        else:\n",
    "            text_color = 'k'\n",
    "        \n",
    "        if info is not None:\n",
    "            if show_mstar:\n",
    "                ax.text(0.70, 0.13, r'$%5.2f$' % galaxy[info], fontsize=18, \n",
    "                        transform=ax.transAxes, c=text_color)\n",
    "            else:\n",
    "                ax.text(0.70, 0.06, r'$%5.2f$' % galaxy[info], fontsize=18, \n",
    "                        transform=ax.transAxes, c=text_color)\n",
    "\n",
    "        if show_mstar:\n",
    "            ax.text(0.70, 0.06, r'$%5.2f$' % galaxy['logms'], fontsize=18, \n",
    "                    transform=ax.transAxes, c=text_color)\n",
    "            \n",
    "        if show_mhalo:\n",
    "            ax.text(0.07, 0.06, r'$%5.2f$' % galaxy['logm200c'], fontsize=18, \n",
    "                    transform=ax.transAxes, c=text_color)\n",
    "    \n",
    "    if output is not None:\n",
    "        fig.savefig(output, dpi=110)\n",
    "        plt.close(fig)\n",
    "    else:\n",
    "        return fig"
   ]
  },
  {
   "cell_type": "markdown",
   "metadata": {},
   "source": [
    "### Show mosaic picture for a sample of galaxies"
   ]
  },
  {
   "cell_type": "code",
   "execution_count": 2,
   "metadata": {},
   "outputs": [],
   "source": [
    "# Input HDF5 from simulation\n",
    "tng_dir = '/Users/song/data/massive/simulation/riker/tng'\n",
    "\n",
    "# HDF5 files\n",
    "tng_file = os.path.join(tng_dir, 'galaxies_tng100_072_agez_highres.hdf5')\n",
    "\n",
    "tng_label = 'tng100_z0.4_hres'\n",
    "\n",
    "tng_data = BeneMassAgeZMaps(tng_file, label=tng_label)\n",
    "\n",
    "# Get the summary table for all galaxies in the data\n",
    "tng_galaxies = tng_data.sum_table()"
   ]
  },
  {
   "cell_type": "markdown",
   "metadata": {},
   "source": [
    "* Here we use the 3-D shape measurements of these TNG halos as examples\n",
    "    - `T_50` is the triaxiality parameter at 50 kpc.\n",
    "    - `haloId` is the `catsh_id`.\n",
    "* We will match the catalog to our galaxy catalog, and group them into very prolate (`T_50 > 0.8`) and very oblate (`T_50 < 0.3`) galaxies, and show their stellar mass ranked mosaics."
   ]
  },
  {
   "cell_type": "code",
   "execution_count": 6,
   "metadata": {},
   "outputs": [],
   "source": [
    "tng_t50 = Table.read('/Users/song/data/massive/simulation/riker/tng/tng100_T50.csv')\n",
    "\n",
    "tng_t50.rename_column('haloId', 'catsh_id')\n",
    "\n",
    "tng_3dshape = join(tng_galaxies, tng_t50, keys='catsh_id', join_type='inner')"
   ]
  },
  {
   "cell_type": "markdown",
   "metadata": {},
   "source": [
    "#### Both central and satellites, sorted by stellar mass"
   ]
  },
  {
   "cell_type": "code",
   "execution_count": 58,
   "metadata": {},
   "outputs": [
    {
     "name": "stdout",
     "output_type": "stream",
     "text": [
      "77 76\n"
     ]
    }
   ],
   "source": [
    "tng_pro = tng_3dshape[tng_3dshape['T_50'] >= 0.79]\n",
    "tng_obl = tng_3dshape[tng_3dshape['T_50'] <= 0.35]\n",
    "\n",
    "tng_pro.sort('logms')\n",
    "tng_obl.sort('logms')\n",
    "\n",
    "print(len(tng_pro), len(tng_obl))\n",
    "\n",
    "mgal_pro = map_list(tng_data, tng_pro)\n",
    "mgal_obl = map_list(tng_data, tng_obl)"
   ]
  },
  {
   "cell_type": "code",
   "execution_count": 59,
   "metadata": {},
   "outputs": [],
   "source": [
    "_ = sample_mosaic(tng_pro, mgal_pro, info='T_50', \n",
    "                  output='tng100_hres_t50_gt_0.79_mass.png')\n",
    "\n",
    "_ = sample_mosaic(tng_obl, mgal_obl, info='T_50', \n",
    "                  output='tng100_hres_t50_lt_0.35_mass.png')"
   ]
  },
  {
   "cell_type": "markdown",
   "metadata": {},
   "source": [
    "#### Both central and satellites, sorted by `T50`"
   ]
  },
  {
   "cell_type": "code",
   "execution_count": 63,
   "metadata": {},
   "outputs": [
    {
     "name": "stdout",
     "output_type": "stream",
     "text": [
      "77 76\n"
     ]
    }
   ],
   "source": [
    "tng_pro_t = tng_3dshape[tng_3dshape['T_50'] >= 0.79]\n",
    "tng_obl_t = tng_3dshape[tng_3dshape['T_50'] <= 0.35]\n",
    "\n",
    "tng_pro_t.sort('T_50')\n",
    "tng_obl_t.sort('T_50')\n",
    "\n",
    "print(len(tng_pro_t), len(tng_obl_t))\n",
    "\n",
    "mgal_pro_t = map_list(tng_data, tng_pro_t)\n",
    "mgal_obl_t = map_list(tng_data, tng_obl_t)"
   ]
  },
  {
   "cell_type": "code",
   "execution_count": 64,
   "metadata": {},
   "outputs": [],
   "source": [
    "_ = sample_mosaic(tng_pro_t, mgal_pro_t, info='T_50', \n",
    "                  output='tng100_hres_t50_gt_0.79_t50.png')\n",
    "\n",
    "_ = sample_mosaic(tng_obl_t, mgal_obl_t, info='T_50', \n",
    "                  output='tng100_hres_t50_lt_0.35_t50.png')"
   ]
  },
  {
   "cell_type": "markdown",
   "metadata": {},
   "source": [
    "#### Central only, sorted by stellar mass"
   ]
  },
  {
   "cell_type": "code",
   "execution_count": 76,
   "metadata": {},
   "outputs": [
    {
     "name": "stdout",
     "output_type": "stream",
     "text": [
      "62 63\n"
     ]
    }
   ],
   "source": [
    "tng_pro_cen = tng_3dshape[(tng_3dshape['T_50'] >= 0.80) & \n",
    "                          np.asarray(tng_3dshape['cen_flag'])]\n",
    "tng_obl_cen = tng_3dshape[(tng_3dshape['T_50'] <= 0.38) & \n",
    "                          np.asarray(tng_3dshape['cen_flag'])]\n",
    "\n",
    "tng_pro_cen.sort('logms')\n",
    "tng_obl_cen.sort('logms')\n",
    "\n",
    "print(len(tng_pro_cen), len(tng_obl_cen))\n",
    "\n",
    "mgal_pro_cen = map_list(tng_data, tng_pro_cen)\n",
    "mgal_obl_cen = map_list(tng_data, tng_obl_cen)"
   ]
  },
  {
   "cell_type": "code",
   "execution_count": 77,
   "metadata": {},
   "outputs": [],
   "source": [
    "_ = sample_mosaic(tng_pro_cen, mgal_pro_cen, info='T_50', \n",
    "                  output='tng100_hres_t50_gt_0.79_cen_mass.png')\n",
    "\n",
    "_ = sample_mosaic(tng_obl_cen, mgal_obl_cen, info='T_50', \n",
    "                  output='tng100_hres_t50_lt_0.35_cen_mass.png')"
   ]
  },
  {
   "cell_type": "markdown",
   "metadata": {},
   "source": [
    "#### Central only, sorted by `T_50`"
   ]
  },
  {
   "cell_type": "code",
   "execution_count": 78,
   "metadata": {},
   "outputs": [
    {
     "name": "stdout",
     "output_type": "stream",
     "text": [
      "62 63\n"
     ]
    }
   ],
   "source": [
    "tng_pro_cen_t = tng_3dshape[(tng_3dshape['T_50'] >= 0.80) & \n",
    "                            np.asarray(tng_3dshape['cen_flag'])]\n",
    "tng_obl_cen_t = tng_3dshape[(tng_3dshape['T_50'] <= 0.38) & \n",
    "                            np.asarray(tng_3dshape['cen_flag'])]\n",
    "\n",
    "tng_pro_cen_t.sort('T_50')\n",
    "tng_obl_cen_t.sort('T_50')\n",
    "\n",
    "print(len(tng_pro_cen_t), len(tng_obl_cen_t))\n",
    "\n",
    "mgal_pro_cen_t = map_list(tng_data, tng_pro_cen_t)\n",
    "mgal_obl_cen_t = map_list(tng_data, tng_obl_cen_t)"
   ]
  },
  {
   "cell_type": "code",
   "execution_count": 79,
   "metadata": {},
   "outputs": [],
   "source": [
    "_ = sample_mosaic(tng_pro_cen_t, mgal_pro_cen_t, info='T_50', \n",
    "                  output='tng100_hres_t50_gt_0.79_cen_t50.png')\n",
    "\n",
    "_ = sample_mosaic(tng_obl_cen_t, mgal_obl_cen_t, info='T_50', \n",
    "                  output='tng100_hres_t50_lt_0.35_cen_t50.png')"
   ]
  },
  {
   "cell_type": "code",
   "execution_count": null,
   "metadata": {},
   "outputs": [],
   "source": []
  }
 ],
 "metadata": {
  "kernelspec": {
   "display_name": "Python 3 (ipykernel)",
   "language": "python",
   "name": "python3"
  },
  "language_info": {
   "codemirror_mode": {
    "name": "ipython",
    "version": 3
   },
   "file_extension": ".py",
   "mimetype": "text/x-python",
   "name": "python",
   "nbconvert_exporter": "python",
   "pygments_lexer": "ipython3",
   "version": "3.8.8"
  }
 },
 "nbformat": 4,
 "nbformat_minor": 4
}
