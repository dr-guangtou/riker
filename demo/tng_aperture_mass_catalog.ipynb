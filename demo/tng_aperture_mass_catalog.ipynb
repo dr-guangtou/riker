{
 "cells": [
  {
   "cell_type": "code",
   "execution_count": 2,
   "metadata": {},
   "outputs": [],
   "source": [
    "%load_ext autoreload\n",
    "%reload_ext autoreload\n",
    "%autoreload 2\n",
    "%matplotlib inline\n",
    "\n",
    "import os\n",
    "import glob\n",
    "import warnings\n",
    "\n",
    "import numpy as np\n",
    "from scipy import interpolate\n",
    "\n",
    "from astropy.table import Table, Column\n",
    "\n",
    "import matplotlib.pyplot as plt\n",
    "from matplotlib import rcParams\n",
    "\n",
    "warnings.filterwarnings(\"ignore\")\n",
    "\n",
    "plt.rc('text', usetex=True)\n",
    "rcParams.update({'axes.linewidth': 1.5})\n",
    "rcParams.update({'xtick.direction': 'in'})\n",
    "rcParams.update({'ytick.direction': 'in'})\n",
    "rcParams.update({'xtick.minor.visible': 'True'})\n",
    "rcParams.update({'ytick.minor.visible': 'True'})\n",
    "rcParams.update({'xtick.major.pad': '7.0'})\n",
    "rcParams.update({'xtick.major.size': '8.0'})\n",
    "rcParams.update({'xtick.major.width': '1.5'})\n",
    "rcParams.update({'xtick.minor.pad': '7.0'})\n",
    "rcParams.update({'xtick.minor.size': '4.0'})\n",
    "rcParams.update({'xtick.minor.width': '1.5'})\n",
    "rcParams.update({'ytick.major.pad': '7.0'})\n",
    "rcParams.update({'ytick.major.size': '8.0'})\n",
    "rcParams.update({'ytick.major.width': '1.5'})\n",
    "rcParams.update({'ytick.minor.pad': '7.0'})\n",
    "rcParams.update({'ytick.minor.size': '4.0'})\n",
    "rcParams.update({'ytick.minor.width': '1.5'})\n",
    "rcParams.update({'axes.titlepad': '10.0'})\n",
    "rcParams.update({'font.size': 25})"
   ]
  },
  {
   "cell_type": "markdown",
   "metadata": {},
   "source": [
    "### TNG100 High-resolution data"
   ]
  },
  {
   "cell_type": "code",
   "execution_count": 4,
   "metadata": {},
   "outputs": [
    {
     "name": "stdout",
     "output_type": "stream",
     "text": [
      "# There are 296 TNG massive galaxies\n"
     ]
    }
   ],
   "source": [
    "data_dir = '/Volumes/hsc/simulation/riker/tng/sum'\n",
    "\n",
    "xy_list = glob.glob(os.path.join(data_dir, '*xy_sum.npy'))\n",
    "xz_list = glob.glob(os.path.join(data_dir, '*xz_sum.npy'))\n",
    "yz_list = glob.glob(os.path.join(data_dir, '*yz_sum.npy'))\n",
    "\n",
    "print(\"# There are %d TNG massive galaxies\" % len(xy_list))"
   ]
  },
  {
   "cell_type": "code",
   "execution_count": 5,
   "metadata": {},
   "outputs": [],
   "source": [
    "xy_sum = [np.load(gal, allow_pickle=True) for gal in xy_list]\n",
    "xz_sum = [np.load(gal, allow_pickle=True) for gal in xz_list]\n",
    "yz_sum = [np.load(gal, allow_pickle=True) for gal in yz_list]"
   ]
  },
  {
   "cell_type": "markdown",
   "metadata": {},
   "source": [
    "### Organize the aperture stellar mass measurements"
   ]
  },
  {
   "cell_type": "code",
   "execution_count": 4,
   "metadata": {},
   "outputs": [],
   "source": [
    "def aper_masses(gal):\n",
    "    \"\"\"Summarize the aperture masses of a galaxy.\"\"\"\n",
    "    summary = {}\n",
    "    \n",
    "    # Central flag\n",
    "    summary['cen'] = gal['info']['cen_flag']\n",
    "    # Total stellar mass\n",
    "    summary['logms'] = gal['info']['logms']\n",
    "    # Total halo mass\n",
    "    summary['logmh'] = gal['info']['logm200c']\n",
    "    \n",
    "    intrp1d = interpolate.interp1d(\n",
    "        gal['prof']['gal_mprof']['sma'], gal['prof']['gal_mprof']['growth_ori'])\n",
    "    \n",
    "    summary['logms_10'] = np.log10(intrp1d(10.))\n",
    "    summary['logms_15'] = np.log10(intrp1d(15.))\n",
    "    summary['logms_30'] = np.log10(intrp1d(30.))\n",
    "    summary['logms_50'] = np.log10(intrp1d(50.))\n",
    "    summary['logms_100'] = np.log10(intrp1d(100.))\n",
    "    \n",
    "    # Also get the aperture ex-situ mass\n",
    "    intrp1d_exs = interpolate.interp1d(\n",
    "        gal['prof']['exs_mprof']['sma'], gal['prof']['exs_mprof']['growth_ori'])\n",
    "    \n",
    "    summary['logms_exs_10'] = np.log10(intrp1d_exs(10.))\n",
    "    summary['logms_exs_15'] = np.log10(intrp1d_exs(15.))\n",
    "    summary['logms_exs_30'] = np.log10(intrp1d_exs(30.))\n",
    "    summary['logms_exs_50'] = np.log10(intrp1d_exs(50.))\n",
    "    summary['logms_exs_100'] = np.log10(intrp1d_exs(100.))\n",
    "    \n",
    "    return summary"
   ]
  },
  {
   "cell_type": "code",
   "execution_count": 25,
   "metadata": {},
   "outputs": [],
   "source": [
    "aper_sum_xy = Table([aper_masses(gal) for gal in xy_sum])\n",
    "aper_sum_xz = Table([aper_masses(gal) for gal in xz_sum])\n",
    "aper_sum_yz = Table([aper_masses(gal) for gal in yz_sum])"
   ]
  },
  {
   "cell_type": "code",
   "execution_count": 41,
   "metadata": {},
   "outputs": [],
   "source": [
    "aper_sum_xy_use = aper_sum_xy[(aper_sum_xy['logms'] >= 11.2) & aper_sum_xy['cen']]\n",
    "aper_sum_xz_use = aper_sum_xz[(aper_sum_xz['logms'] >= 11.2) & aper_sum_xz['cen']]\n",
    "aper_sum_yz_use = aper_sum_yz[(aper_sum_yz['logms'] >= 11.2) & aper_sum_yz['cen']]"
   ]
  },
  {
   "cell_type": "code",
   "execution_count": 42,
   "metadata": {},
   "outputs": [],
   "source": [
    "aper_sum_xy_use.write('/Users/song/Dropbox/work/submit/shmr_scatter/data/tng_z0.4_aperture_masses_xy.fits')\n",
    "aper_sum_xz_use.write('/Users/song/Dropbox/work/submit/shmr_scatter/data/tng_z0.4_aperture_masses_xz.fits')\n",
    "aper_sum_yz_use.write('/Users/song/Dropbox/work/submit/shmr_scatter/data/tng_z0.4_aperture_masses_yz.fits')"
   ]
  },
  {
   "cell_type": "markdown",
   "metadata": {},
   "source": [
    "### Illustris Origina High-res data"
   ]
  },
  {
   "cell_type": "code",
   "execution_count": 5,
   "metadata": {},
   "outputs": [
    {
     "name": "stdout",
     "output_type": "stream",
     "text": [
      "# There are 449 Illustris massive galaxies\n"
     ]
    }
   ],
   "source": [
    "data_dir = '/Volumes/hsc/simulation/riker/ori/sum'\n",
    "\n",
    "xy_list = glob.glob(os.path.join(data_dir, '*xy_sum.npy'))\n",
    "xz_list = glob.glob(os.path.join(data_dir, '*xz_sum.npy'))\n",
    "yz_list = glob.glob(os.path.join(data_dir, '*yz_sum.npy'))\n",
    "\n",
    "print(\"# There are %d Illustris massive galaxies\" % len(xy_list))\n",
    "\n",
    "xy_sum = [np.load(gal, allow_pickle=True) for gal in xy_list]\n",
    "xz_sum = [np.load(gal, allow_pickle=True) for gal in xz_list]\n",
    "yz_sum = [np.load(gal, allow_pickle=True) for gal in yz_list]\n",
    "\n",
    "aper_sum_xy = Table([aper_masses(gal) for gal in xy_sum])\n",
    "aper_sum_xz = Table([aper_masses(gal) for gal in xz_sum])\n",
    "aper_sum_yz = Table([aper_masses(gal) for gal in yz_sum])\n",
    "\n",
    "aper_sum_xy_use = aper_sum_xy[(aper_sum_xy['logms'] >= 11.2) & aper_sum_xy['cen']]\n",
    "aper_sum_xz_use = aper_sum_xz[(aper_sum_xz['logms'] >= 11.2) & aper_sum_xz['cen']]\n",
    "aper_sum_yz_use = aper_sum_yz[(aper_sum_yz['logms'] >= 11.2) & aper_sum_yz['cen']]"
   ]
  },
  {
   "cell_type": "code",
   "execution_count": 6,
   "metadata": {},
   "outputs": [],
   "source": [
    "aper_sum_xy_use.write('/Users/song/Dropbox/work/submit/shmr_scatter/data/illustris_z0.4_aperture_masses_xy.fits')\n",
    "aper_sum_xz_use.write('/Users/song/Dropbox/work/submit/shmr_scatter/data/illustris_z0.4_aperture_masses_xz.fits')\n",
    "aper_sum_yz_use.write('/Users/song/Dropbox/work/submit/shmr_scatter/data/illustris_z0.4_aperture_masses_yz.fits')"
   ]
  },
  {
   "cell_type": "code",
   "execution_count": null,
   "metadata": {},
   "outputs": [],
   "source": []
  }
 ],
 "metadata": {
  "kernelspec": {
   "display_name": "Python 3",
   "language": "python",
   "name": "python3"
  },
  "language_info": {
   "codemirror_mode": {
    "name": "ipython",
    "version": 3
   },
   "file_extension": ".py",
   "mimetype": "text/x-python",
   "name": "python",
   "nbconvert_exporter": "python",
   "pygments_lexer": "ipython3",
   "version": "3.7.7"
  }
 },
 "nbformat": 4,
 "nbformat_minor": 4
}
